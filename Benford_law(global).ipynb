{
 "cells": [
  {
   "cell_type": "code",
   "execution_count": 1,
   "id": "d48d1032",
   "metadata": {},
   "outputs": [
    {
     "data": {
      "text/html": [
       "<div>\n",
       "<style scoped>\n",
       "    .dataframe tbody tr th:only-of-type {\n",
       "        vertical-align: middle;\n",
       "    }\n",
       "\n",
       "    .dataframe tbody tr th {\n",
       "        vertical-align: top;\n",
       "    }\n",
       "\n",
       "    .dataframe thead th {\n",
       "        text-align: right;\n",
       "    }\n",
       "</style>\n",
       "<table border=\"1\" class=\"dataframe\">\n",
       "  <thead>\n",
       "    <tr style=\"text-align: right;\">\n",
       "      <th></th>\n",
       "      <th>country</th>\n",
       "      <th>date</th>\n",
       "      <th>sector</th>\n",
       "      <th>value20</th>\n",
       "      <th>value21</th>\n",
       "      <th>Unnamed: 5</th>\n",
       "      <th>country.1</th>\n",
       "      <th>date.1</th>\n",
       "      <th>sector.1</th>\n",
       "      <th>value20a</th>\n",
       "      <th>...</th>\n",
       "      <th>date.3</th>\n",
       "      <th>sector.3</th>\n",
       "      <th>value20c</th>\n",
       "      <th>value21c</th>\n",
       "      <th>Unnamed: 25</th>\n",
       "      <th>country.4</th>\n",
       "      <th>date.4</th>\n",
       "      <th>sector.4</th>\n",
       "      <th>value20d</th>\n",
       "      <th>value21d</th>\n",
       "    </tr>\n",
       "  </thead>\n",
       "  <tbody>\n",
       "    <tr>\n",
       "      <th>0</th>\n",
       "      <td>Brazil</td>\n",
       "      <td>1/1/2020</td>\n",
       "      <td>Power</td>\n",
       "      <td>0.302034</td>\n",
       "      <td>0.297697</td>\n",
       "      <td>NaN</td>\n",
       "      <td>Brazil</td>\n",
       "      <td>1/1/2020</td>\n",
       "      <td>Industry</td>\n",
       "      <td>0.314826</td>\n",
       "      <td>...</td>\n",
       "      <td>1/1/2020</td>\n",
       "      <td>International Aviation</td>\n",
       "      <td>0.016853</td>\n",
       "      <td>0.006855</td>\n",
       "      <td>NaN</td>\n",
       "      <td>Brazil</td>\n",
       "      <td>1/1/2020</td>\n",
       "      <td>Residential</td>\n",
       "      <td>0.098452</td>\n",
       "      <td>0.098452</td>\n",
       "    </tr>\n",
       "    <tr>\n",
       "      <th>1</th>\n",
       "      <td>China</td>\n",
       "      <td>1/1/2020</td>\n",
       "      <td>Power</td>\n",
       "      <td>16.502400</td>\n",
       "      <td>16.342900</td>\n",
       "      <td>NaN</td>\n",
       "      <td>China</td>\n",
       "      <td>1/1/2020</td>\n",
       "      <td>Industry</td>\n",
       "      <td>10.388400</td>\n",
       "      <td>...</td>\n",
       "      <td>1/1/2020</td>\n",
       "      <td>International Aviation</td>\n",
       "      <td>0.082306</td>\n",
       "      <td>0.029283</td>\n",
       "      <td>NaN</td>\n",
       "      <td>China</td>\n",
       "      <td>1/1/2020</td>\n",
       "      <td>Residential</td>\n",
       "      <td>3.685830</td>\n",
       "      <td>4.343550</td>\n",
       "    </tr>\n",
       "    <tr>\n",
       "      <th>2</th>\n",
       "      <td>EU27 &amp; UK</td>\n",
       "      <td>1/1/2020</td>\n",
       "      <td>Power</td>\n",
       "      <td>1.943690</td>\n",
       "      <td>2.178120</td>\n",
       "      <td>NaN</td>\n",
       "      <td>EU27 &amp; UK</td>\n",
       "      <td>1/1/2020</td>\n",
       "      <td>Industry</td>\n",
       "      <td>1.164180</td>\n",
       "      <td>...</td>\n",
       "      <td>1/1/2020</td>\n",
       "      <td>International Aviation</td>\n",
       "      <td>0.378755</td>\n",
       "      <td>0.117591</td>\n",
       "      <td>NaN</td>\n",
       "      <td>EU27 &amp; UK</td>\n",
       "      <td>1/1/2020</td>\n",
       "      <td>Residential</td>\n",
       "      <td>3.041060</td>\n",
       "      <td>3.121850</td>\n",
       "    </tr>\n",
       "    <tr>\n",
       "      <th>3</th>\n",
       "      <td>India</td>\n",
       "      <td>1/1/2020</td>\n",
       "      <td>Power</td>\n",
       "      <td>3.294040</td>\n",
       "      <td>3.486970</td>\n",
       "      <td>NaN</td>\n",
       "      <td>India</td>\n",
       "      <td>1/1/2020</td>\n",
       "      <td>Industry</td>\n",
       "      <td>2.077110</td>\n",
       "      <td>...</td>\n",
       "      <td>1/1/2020</td>\n",
       "      <td>International Aviation</td>\n",
       "      <td>0.036182</td>\n",
       "      <td>0.013904</td>\n",
       "      <td>NaN</td>\n",
       "      <td>India</td>\n",
       "      <td>1/1/2020</td>\n",
       "      <td>Residential</td>\n",
       "      <td>1.949580</td>\n",
       "      <td>1.948760</td>\n",
       "    </tr>\n",
       "    <tr>\n",
       "      <th>4</th>\n",
       "      <td>ROW</td>\n",
       "      <td>1/1/2020</td>\n",
       "      <td>Power</td>\n",
       "      <td>8.468100</td>\n",
       "      <td>7.942520</td>\n",
       "      <td>NaN</td>\n",
       "      <td>ROW</td>\n",
       "      <td>1/1/2020</td>\n",
       "      <td>Industry</td>\n",
       "      <td>8.136420</td>\n",
       "      <td>...</td>\n",
       "      <td>1/1/2020</td>\n",
       "      <td>International Aviation</td>\n",
       "      <td>0.761327</td>\n",
       "      <td>0.278306</td>\n",
       "      <td>NaN</td>\n",
       "      <td>ROW</td>\n",
       "      <td>1/1/2020</td>\n",
       "      <td>Residential</td>\n",
       "      <td>4.992050</td>\n",
       "      <td>5.474280</td>\n",
       "    </tr>\n",
       "    <tr>\n",
       "      <th>...</th>\n",
       "      <td>...</td>\n",
       "      <td>...</td>\n",
       "      <td>...</td>\n",
       "      <td>...</td>\n",
       "      <td>...</td>\n",
       "      <td>...</td>\n",
       "      <td>...</td>\n",
       "      <td>...</td>\n",
       "      <td>...</td>\n",
       "      <td>...</td>\n",
       "      <td>...</td>\n",
       "      <td>...</td>\n",
       "      <td>...</td>\n",
       "      <td>...</td>\n",
       "      <td>...</td>\n",
       "      <td>...</td>\n",
       "      <td>...</td>\n",
       "      <td>...</td>\n",
       "      <td>...</td>\n",
       "      <td>...</td>\n",
       "      <td>...</td>\n",
       "    </tr>\n",
       "    <tr>\n",
       "      <th>2923</th>\n",
       "      <td>India</td>\n",
       "      <td>12/31/2020</td>\n",
       "      <td>Power</td>\n",
       "      <td>3.522990</td>\n",
       "      <td>NaN</td>\n",
       "      <td>NaN</td>\n",
       "      <td>India</td>\n",
       "      <td>12/31/2020</td>\n",
       "      <td>Industry</td>\n",
       "      <td>2.234300</td>\n",
       "      <td>...</td>\n",
       "      <td>12/31/2020</td>\n",
       "      <td>International Aviation</td>\n",
       "      <td>0.014496</td>\n",
       "      <td>NaN</td>\n",
       "      <td>NaN</td>\n",
       "      <td>India</td>\n",
       "      <td>12/31/2020</td>\n",
       "      <td>Residential</td>\n",
       "      <td>2.154160</td>\n",
       "      <td>NaN</td>\n",
       "    </tr>\n",
       "    <tr>\n",
       "      <th>2924</th>\n",
       "      <td>ROW</td>\n",
       "      <td>12/31/2020</td>\n",
       "      <td>Power</td>\n",
       "      <td>8.320640</td>\n",
       "      <td>NaN</td>\n",
       "      <td>NaN</td>\n",
       "      <td>ROW</td>\n",
       "      <td>12/31/2020</td>\n",
       "      <td>Industry</td>\n",
       "      <td>9.164110</td>\n",
       "      <td>...</td>\n",
       "      <td>12/31/2020</td>\n",
       "      <td>International Aviation</td>\n",
       "      <td>0.296406</td>\n",
       "      <td>NaN</td>\n",
       "      <td>NaN</td>\n",
       "      <td>ROW</td>\n",
       "      <td>12/31/2020</td>\n",
       "      <td>Residential</td>\n",
       "      <td>5.446440</td>\n",
       "      <td>NaN</td>\n",
       "    </tr>\n",
       "    <tr>\n",
       "      <th>2925</th>\n",
       "      <td>Russia</td>\n",
       "      <td>12/31/2020</td>\n",
       "      <td>Power</td>\n",
       "      <td>2.466490</td>\n",
       "      <td>NaN</td>\n",
       "      <td>NaN</td>\n",
       "      <td>Russia</td>\n",
       "      <td>12/31/2020</td>\n",
       "      <td>Industry</td>\n",
       "      <td>0.969530</td>\n",
       "      <td>...</td>\n",
       "      <td>12/31/2020</td>\n",
       "      <td>International Aviation</td>\n",
       "      <td>0.010385</td>\n",
       "      <td>NaN</td>\n",
       "      <td>NaN</td>\n",
       "      <td>Russia</td>\n",
       "      <td>12/31/2020</td>\n",
       "      <td>Residential</td>\n",
       "      <td>0.890072</td>\n",
       "      <td>NaN</td>\n",
       "    </tr>\n",
       "    <tr>\n",
       "      <th>2926</th>\n",
       "      <td>United States</td>\n",
       "      <td>12/31/2020</td>\n",
       "      <td>Power</td>\n",
       "      <td>3.858090</td>\n",
       "      <td>NaN</td>\n",
       "      <td>NaN</td>\n",
       "      <td>United States</td>\n",
       "      <td>12/31/2020</td>\n",
       "      <td>Industry</td>\n",
       "      <td>2.854360</td>\n",
       "      <td>...</td>\n",
       "      <td>12/31/2020</td>\n",
       "      <td>International Aviation</td>\n",
       "      <td>0.123049</td>\n",
       "      <td>NaN</td>\n",
       "      <td>NaN</td>\n",
       "      <td>United States</td>\n",
       "      <td>12/31/2020</td>\n",
       "      <td>Residential</td>\n",
       "      <td>2.704610</td>\n",
       "      <td>NaN</td>\n",
       "    </tr>\n",
       "    <tr>\n",
       "      <th>2927</th>\n",
       "      <td>WORLD</td>\n",
       "      <td>12/31/2020</td>\n",
       "      <td>Power</td>\n",
       "      <td>39.005500</td>\n",
       "      <td>NaN</td>\n",
       "      <td>NaN</td>\n",
       "      <td>WORLD</td>\n",
       "      <td>12/31/2020</td>\n",
       "      <td>Industry</td>\n",
       "      <td>31.057500</td>\n",
       "      <td>...</td>\n",
       "      <td>12/31/2020</td>\n",
       "      <td>International Aviation</td>\n",
       "      <td>0.623981</td>\n",
       "      <td>NaN</td>\n",
       "      <td>NaN</td>\n",
       "      <td>WORLD</td>\n",
       "      <td>12/31/2020</td>\n",
       "      <td>Residential</td>\n",
       "      <td>19.702200</td>\n",
       "      <td>NaN</td>\n",
       "    </tr>\n",
       "  </tbody>\n",
       "</table>\n",
       "<p>2928 rows × 31 columns</p>\n",
       "</div>"
      ],
      "text/plain": [
       "            country        date sector    value20    value21  Unnamed: 5  \\\n",
       "0            Brazil    1/1/2020  Power   0.302034   0.297697         NaN   \n",
       "1             China    1/1/2020  Power  16.502400  16.342900         NaN   \n",
       "2         EU27 & UK    1/1/2020  Power   1.943690   2.178120         NaN   \n",
       "3             India    1/1/2020  Power   3.294040   3.486970         NaN   \n",
       "4               ROW    1/1/2020  Power   8.468100   7.942520         NaN   \n",
       "...             ...         ...    ...        ...        ...         ...   \n",
       "2923          India  12/31/2020  Power   3.522990        NaN         NaN   \n",
       "2924            ROW  12/31/2020  Power   8.320640        NaN         NaN   \n",
       "2925         Russia  12/31/2020  Power   2.466490        NaN         NaN   \n",
       "2926  United States  12/31/2020  Power   3.858090        NaN         NaN   \n",
       "2927          WORLD  12/31/2020  Power  39.005500        NaN         NaN   \n",
       "\n",
       "          country.1      date.1  sector.1   value20a  ...      date.3  \\\n",
       "0            Brazil    1/1/2020  Industry   0.314826  ...    1/1/2020   \n",
       "1             China    1/1/2020  Industry  10.388400  ...    1/1/2020   \n",
       "2         EU27 & UK    1/1/2020  Industry   1.164180  ...    1/1/2020   \n",
       "3             India    1/1/2020  Industry   2.077110  ...    1/1/2020   \n",
       "4               ROW    1/1/2020  Industry   8.136420  ...    1/1/2020   \n",
       "...             ...         ...       ...        ...  ...         ...   \n",
       "2923          India  12/31/2020  Industry   2.234300  ...  12/31/2020   \n",
       "2924            ROW  12/31/2020  Industry   9.164110  ...  12/31/2020   \n",
       "2925         Russia  12/31/2020  Industry   0.969530  ...  12/31/2020   \n",
       "2926  United States  12/31/2020  Industry   2.854360  ...  12/31/2020   \n",
       "2927          WORLD  12/31/2020  Industry  31.057500  ...  12/31/2020   \n",
       "\n",
       "                    sector.3  value20c  value21c Unnamed: 25      country.4  \\\n",
       "0     International Aviation  0.016853  0.006855         NaN         Brazil   \n",
       "1     International Aviation  0.082306  0.029283         NaN          China   \n",
       "2     International Aviation  0.378755  0.117591         NaN      EU27 & UK   \n",
       "3     International Aviation  0.036182  0.013904         NaN          India   \n",
       "4     International Aviation  0.761327  0.278306         NaN            ROW   \n",
       "...                      ...       ...       ...         ...            ...   \n",
       "2923  International Aviation  0.014496       NaN         NaN          India   \n",
       "2924  International Aviation  0.296406       NaN         NaN            ROW   \n",
       "2925  International Aviation  0.010385       NaN         NaN         Russia   \n",
       "2926  International Aviation  0.123049       NaN         NaN  United States   \n",
       "2927  International Aviation  0.623981       NaN         NaN          WORLD   \n",
       "\n",
       "          date.4     sector.4   value20d  value21d  \n",
       "0       1/1/2020  Residential   0.098452  0.098452  \n",
       "1       1/1/2020  Residential   3.685830  4.343550  \n",
       "2       1/1/2020  Residential   3.041060  3.121850  \n",
       "3       1/1/2020  Residential   1.949580  1.948760  \n",
       "4       1/1/2020  Residential   4.992050  5.474280  \n",
       "...          ...          ...        ...       ...  \n",
       "2923  12/31/2020  Residential   2.154160       NaN  \n",
       "2924  12/31/2020  Residential   5.446440       NaN  \n",
       "2925  12/31/2020  Residential   0.890072       NaN  \n",
       "2926  12/31/2020  Residential   2.704610       NaN  \n",
       "2927  12/31/2020  Residential  19.702200       NaN  \n",
       "\n",
       "[2928 rows x 31 columns]"
      ]
     },
     "execution_count": 1,
     "metadata": {},
     "output_type": "execute_result"
    }
   ],
   "source": [
    "import benford as bf\n",
    "import pandas as pd\n",
    "sp=pd.read_csv('GlobSectAll.csv')\n",
    "sp"
   ]
  },
  {
   "cell_type": "code",
   "execution_count": null,
   "id": "87c94b32",
   "metadata": {},
   "outputs": [],
   "source": [
    "#Commands to count how many 1st, 1st two and 2nd digit in the data\n",
    "f1d=bf.first_digits(sp.value20a,digs=1,decimals=8) #for the first digit(1-9)\n",
    "f2d=bf.first_digits(sp.value20a,digs=2,decimal=8) #for the first 2 digits\n",
    "sd=bf.second_digit(sp.value20a,decimals=8,confidence=95) #for the 2nd digit"
   ]
  },
  {
   "cell_type": "code",
   "execution_count": null,
   "id": "8b3d1a25",
   "metadata": {},
   "outputs": [],
   "source": [
    "#Commands to find MAD\n",
    "mad1=bf.mad(sp.value20a,test=1,decimals=8) #mad for first digit \n",
    "mad2=bf.mad(sp.value20a,test=2,decimals=8) #mad for first two  digits\n",
    "mad22=bf.mad(sp.value20a,test=22,decimals=8) #mad for second digit"
   ]
  },
  {
   "cell_type": "code",
   "execution_count": 1,
   "id": "45971d13",
   "metadata": {},
   "outputs": [],
   "source": [
    "import pandas as pd\n",
    "\n",
    "# Read the CSV file\n",
    "BRIC = pd.read_csv(\"Bric_project.csv\")\n",
    "\n"
   ]
  },
  {
   "cell_type": "code",
   "execution_count": 8,
   "id": "f5106b9f",
   "metadata": {},
   "outputs": [
    {
     "name": "stdout",
     "output_type": "stream",
     "text": [
      "count    8784.000000\n",
      "mean        1.674927\n",
      "std         3.343442\n",
      "min         0.000091\n",
      "25%         0.035768\n",
      "50%         0.353266\n",
      "75%         1.660027\n",
      "max        16.674600\n",
      "Name: value, dtype: float64\n",
      "count    8760.000000\n",
      "mean        1.784552\n",
      "std         3.516242\n",
      "min         0.004586\n",
      "25%         0.035579\n",
      "50%         0.387506\n",
      "75%         1.906998\n",
      "max        17.896200\n",
      "Name: value.1, dtype: float64\n"
     ]
    }
   ],
   "source": [
    "print(BRIC['value'].describe())\n",
    "print(BRIC['value.1'].describe())"
   ]
  },
  {
   "cell_type": "code",
   "execution_count": 14,
   "id": "9c62b24e",
   "metadata": {},
   "outputs": [
    {
     "name": "stdout",
     "output_type": "stream",
     "text": [
      "count    17568.000000\n",
      "mean         3.727903\n",
      "std          7.075335\n",
      "min          0.000091\n",
      "25%          0.141913\n",
      "50%          0.801822\n",
      "75%          3.136650\n",
      "max         41.231900\n",
      "Name: value, dtype: float64\n",
      "skew: 3.037236121820451\n",
      "kurtosis: 9.57577670513036\n"
     ]
    }
   ],
   "source": [
    "GLOBAL=pd.read_csv('Global_project.csv')\n",
    "print(GLOBAL['value'].describe())\n",
    "print('skew:',GLOBAL['value'].skew())\n",
    "print('kurtosis:',GLOBAL['value'].kurt())"
   ]
  },
  {
   "cell_type": "code",
   "execution_count": 15,
   "id": "3aa311bd",
   "metadata": {},
   "outputs": [
    {
     "data": {
      "text/html": [
       "<div>\n",
       "<style scoped>\n",
       "    .dataframe tbody tr th:only-of-type {\n",
       "        vertical-align: middle;\n",
       "    }\n",
       "\n",
       "    .dataframe tbody tr th {\n",
       "        vertical-align: top;\n",
       "    }\n",
       "\n",
       "    .dataframe thead th {\n",
       "        text-align: right;\n",
       "    }\n",
       "</style>\n",
       "<table border=\"1\" class=\"dataframe\">\n",
       "  <thead>\n",
       "    <tr style=\"text-align: right;\">\n",
       "      <th></th>\n",
       "      <th>country</th>\n",
       "      <th>date</th>\n",
       "      <th>sector</th>\n",
       "      <th>value20</th>\n",
       "      <th>Unnamed: 4</th>\n",
       "      <th>country.1</th>\n",
       "      <th>date.1</th>\n",
       "      <th>sector.1</th>\n",
       "      <th>value21</th>\n",
       "      <th>Unnamed: 9</th>\n",
       "      <th>Country</th>\n",
       "      <th>date.2</th>\n",
       "      <th>sector.2</th>\n",
       "      <th>value19</th>\n",
       "    </tr>\n",
       "  </thead>\n",
       "  <tbody>\n",
       "    <tr>\n",
       "      <th>0</th>\n",
       "      <td>Brazil</td>\n",
       "      <td>1/1/2020</td>\n",
       "      <td>Domestic Aviation</td>\n",
       "      <td>0.022615</td>\n",
       "      <td>NaN</td>\n",
       "      <td>Brazil</td>\n",
       "      <td>1/1/2021</td>\n",
       "      <td>Domestic Aviation</td>\n",
       "      <td>0.015856</td>\n",
       "      <td>NaN</td>\n",
       "      <td>Brazil</td>\n",
       "      <td>1/1/2019</td>\n",
       "      <td>Domestic Aviation</td>\n",
       "      <td>0.023750</td>\n",
       "    </tr>\n",
       "    <tr>\n",
       "      <th>1</th>\n",
       "      <td>Brazil</td>\n",
       "      <td>1/1/2020</td>\n",
       "      <td>Ground Transport</td>\n",
       "      <td>0.251534</td>\n",
       "      <td>NaN</td>\n",
       "      <td>Brazil</td>\n",
       "      <td>1/1/2021</td>\n",
       "      <td>Ground Transport</td>\n",
       "      <td>0.093956</td>\n",
       "      <td>NaN</td>\n",
       "      <td>Brazil</td>\n",
       "      <td>1/1/2019</td>\n",
       "      <td>Ground Transport</td>\n",
       "      <td>0.201663</td>\n",
       "    </tr>\n",
       "    <tr>\n",
       "      <th>2</th>\n",
       "      <td>Brazil</td>\n",
       "      <td>1/1/2020</td>\n",
       "      <td>Industry</td>\n",
       "      <td>0.314826</td>\n",
       "      <td>NaN</td>\n",
       "      <td>Brazil</td>\n",
       "      <td>1/1/2021</td>\n",
       "      <td>Industry</td>\n",
       "      <td>0.309095</td>\n",
       "      <td>NaN</td>\n",
       "      <td>Brazil</td>\n",
       "      <td>1/1/2019</td>\n",
       "      <td>Industry</td>\n",
       "      <td>0.240156</td>\n",
       "    </tr>\n",
       "    <tr>\n",
       "      <th>3</th>\n",
       "      <td>Brazil</td>\n",
       "      <td>1/1/2020</td>\n",
       "      <td>International Aviation</td>\n",
       "      <td>0.016853</td>\n",
       "      <td>NaN</td>\n",
       "      <td>Brazil</td>\n",
       "      <td>1/1/2021</td>\n",
       "      <td>International Aviation</td>\n",
       "      <td>0.006855</td>\n",
       "      <td>NaN</td>\n",
       "      <td>Brazil</td>\n",
       "      <td>1/1/2019</td>\n",
       "      <td>International Aviation</td>\n",
       "      <td>0.018398</td>\n",
       "    </tr>\n",
       "    <tr>\n",
       "      <th>4</th>\n",
       "      <td>Brazil</td>\n",
       "      <td>1/1/2020</td>\n",
       "      <td>Power</td>\n",
       "      <td>0.302034</td>\n",
       "      <td>NaN</td>\n",
       "      <td>Brazil</td>\n",
       "      <td>1/1/2021</td>\n",
       "      <td>Power</td>\n",
       "      <td>0.297697</td>\n",
       "      <td>NaN</td>\n",
       "      <td>Brazil</td>\n",
       "      <td>1/1/2019</td>\n",
       "      <td>Power</td>\n",
       "      <td>0.107724</td>\n",
       "    </tr>\n",
       "    <tr>\n",
       "      <th>...</th>\n",
       "      <td>...</td>\n",
       "      <td>...</td>\n",
       "      <td>...</td>\n",
       "      <td>...</td>\n",
       "      <td>...</td>\n",
       "      <td>...</td>\n",
       "      <td>...</td>\n",
       "      <td>...</td>\n",
       "      <td>...</td>\n",
       "      <td>...</td>\n",
       "      <td>...</td>\n",
       "      <td>...</td>\n",
       "      <td>...</td>\n",
       "      <td>...</td>\n",
       "    </tr>\n",
       "    <tr>\n",
       "      <th>8779</th>\n",
       "      <td>Russia</td>\n",
       "      <td>12/31/2020</td>\n",
       "      <td>Ground Transport</td>\n",
       "      <td>0.590000</td>\n",
       "      <td>NaN</td>\n",
       "      <td>NaN</td>\n",
       "      <td>NaN</td>\n",
       "      <td>NaN</td>\n",
       "      <td>NaN</td>\n",
       "      <td>NaN</td>\n",
       "      <td>NaN</td>\n",
       "      <td>NaN</td>\n",
       "      <td>NaN</td>\n",
       "      <td>NaN</td>\n",
       "    </tr>\n",
       "    <tr>\n",
       "      <th>8780</th>\n",
       "      <td>Russia</td>\n",
       "      <td>12/31/2020</td>\n",
       "      <td>Industry</td>\n",
       "      <td>0.969530</td>\n",
       "      <td>NaN</td>\n",
       "      <td>NaN</td>\n",
       "      <td>NaN</td>\n",
       "      <td>NaN</td>\n",
       "      <td>NaN</td>\n",
       "      <td>NaN</td>\n",
       "      <td>NaN</td>\n",
       "      <td>NaN</td>\n",
       "      <td>NaN</td>\n",
       "      <td>NaN</td>\n",
       "    </tr>\n",
       "    <tr>\n",
       "      <th>8781</th>\n",
       "      <td>Russia</td>\n",
       "      <td>12/31/2020</td>\n",
       "      <td>International Aviation</td>\n",
       "      <td>0.010385</td>\n",
       "      <td>NaN</td>\n",
       "      <td>NaN</td>\n",
       "      <td>NaN</td>\n",
       "      <td>NaN</td>\n",
       "      <td>NaN</td>\n",
       "      <td>NaN</td>\n",
       "      <td>NaN</td>\n",
       "      <td>NaN</td>\n",
       "      <td>NaN</td>\n",
       "      <td>NaN</td>\n",
       "    </tr>\n",
       "    <tr>\n",
       "      <th>8782</th>\n",
       "      <td>Russia</td>\n",
       "      <td>12/31/2020</td>\n",
       "      <td>Power</td>\n",
       "      <td>2.466490</td>\n",
       "      <td>NaN</td>\n",
       "      <td>NaN</td>\n",
       "      <td>NaN</td>\n",
       "      <td>NaN</td>\n",
       "      <td>NaN</td>\n",
       "      <td>NaN</td>\n",
       "      <td>NaN</td>\n",
       "      <td>NaN</td>\n",
       "      <td>NaN</td>\n",
       "      <td>NaN</td>\n",
       "    </tr>\n",
       "    <tr>\n",
       "      <th>8783</th>\n",
       "      <td>Russia</td>\n",
       "      <td>12/31/2020</td>\n",
       "      <td>Residential</td>\n",
       "      <td>0.890072</td>\n",
       "      <td>NaN</td>\n",
       "      <td>NaN</td>\n",
       "      <td>NaN</td>\n",
       "      <td>NaN</td>\n",
       "      <td>NaN</td>\n",
       "      <td>NaN</td>\n",
       "      <td>NaN</td>\n",
       "      <td>NaN</td>\n",
       "      <td>NaN</td>\n",
       "      <td>NaN</td>\n",
       "    </tr>\n",
       "  </tbody>\n",
       "</table>\n",
       "<p>8784 rows × 14 columns</p>\n",
       "</div>"
      ],
      "text/plain": [
       "     country        date                  sector   value20  Unnamed: 4  \\\n",
       "0     Brazil    1/1/2020       Domestic Aviation  0.022615         NaN   \n",
       "1     Brazil    1/1/2020        Ground Transport  0.251534         NaN   \n",
       "2     Brazil    1/1/2020                Industry  0.314826         NaN   \n",
       "3     Brazil    1/1/2020  International Aviation  0.016853         NaN   \n",
       "4     Brazil    1/1/2020                   Power  0.302034         NaN   \n",
       "...      ...         ...                     ...       ...         ...   \n",
       "8779  Russia  12/31/2020        Ground Transport  0.590000         NaN   \n",
       "8780  Russia  12/31/2020                Industry  0.969530         NaN   \n",
       "8781  Russia  12/31/2020  International Aviation  0.010385         NaN   \n",
       "8782  Russia  12/31/2020                   Power  2.466490         NaN   \n",
       "8783  Russia  12/31/2020             Residential  0.890072         NaN   \n",
       "\n",
       "     country.1    date.1                sector.1   value21  Unnamed: 9  \\\n",
       "0       Brazil  1/1/2021       Domestic Aviation  0.015856         NaN   \n",
       "1       Brazil  1/1/2021        Ground Transport  0.093956         NaN   \n",
       "2       Brazil  1/1/2021                Industry  0.309095         NaN   \n",
       "3       Brazil  1/1/2021  International Aviation  0.006855         NaN   \n",
       "4       Brazil  1/1/2021                   Power  0.297697         NaN   \n",
       "...        ...       ...                     ...       ...         ...   \n",
       "8779       NaN       NaN                     NaN       NaN         NaN   \n",
       "8780       NaN       NaN                     NaN       NaN         NaN   \n",
       "8781       NaN       NaN                     NaN       NaN         NaN   \n",
       "8782       NaN       NaN                     NaN       NaN         NaN   \n",
       "8783       NaN       NaN                     NaN       NaN         NaN   \n",
       "\n",
       "     Country    date.2                sector.2   value19  \n",
       "0     Brazil  1/1/2019       Domestic Aviation  0.023750  \n",
       "1     Brazil  1/1/2019        Ground Transport  0.201663  \n",
       "2     Brazil  1/1/2019                Industry  0.240156  \n",
       "3     Brazil  1/1/2019  International Aviation  0.018398  \n",
       "4     Brazil  1/1/2019                   Power  0.107724  \n",
       "...      ...       ...                     ...       ...  \n",
       "8779     NaN       NaN                     NaN       NaN  \n",
       "8780     NaN       NaN                     NaN       NaN  \n",
       "8781     NaN       NaN                     NaN       NaN  \n",
       "8782     NaN       NaN                     NaN       NaN  \n",
       "8783     NaN       NaN                     NaN       NaN  \n",
       "\n",
       "[8784 rows x 14 columns]"
      ]
     },
     "execution_count": 15,
     "metadata": {},
     "output_type": "execute_result"
    }
   ],
   "source": [
    "import benford as bf\n",
    "import pandas as pd\n",
    "sp2=pd.read_csv('Bric_project.csv')\n",
    "sp2"
   ]
  },
  {
   "cell_type": "code",
   "execution_count": 22,
   "id": "9e8176c4",
   "metadata": {},
   "outputs": [
    {
     "data": {
      "text/plain": [
       "0.03059059211934208"
      ]
     },
     "execution_count": 22,
     "metadata": {},
     "output_type": "execute_result"
    }
   ],
   "source": [
    "#BRIC first digit(2019)\n",
    "mad1=bf.mad(sp2.value19,test=1,decimals=8) #mad for first digit \n",
    "mad1"
   ]
  },
  {
   "cell_type": "code",
   "execution_count": 23,
   "id": "f184b6e0",
   "metadata": {},
   "outputs": [
    {
     "data": {
      "text/plain": [
       "0.018799902002588784"
      ]
     },
     "execution_count": 23,
     "metadata": {},
     "output_type": "execute_result"
    }
   ],
   "source": [
    "#Bric second digit(2019)\n",
    "mad22=bf.mad(sp2.value19,test=22,decimals=8) #mad for second digit\n",
    "mad22"
   ]
  },
  {
   "cell_type": "code",
   "execution_count": 24,
   "id": "a641ce73",
   "metadata": {},
   "outputs": [
    {
     "data": {
      "text/plain": [
       "0.005716728925484585"
      ]
     },
     "execution_count": 24,
     "metadata": {},
     "output_type": "execute_result"
    }
   ],
   "source": [
    "#First two digit Benford of Bric(2019)\n",
    "mad2=bf.mad(sp2.value19,test=2,decimals=8) #mad for first two  digits\n",
    "mad2"
   ]
  },
  {
   "cell_type": "code",
   "execution_count": 16,
   "id": "13e490fb",
   "metadata": {},
   "outputs": [
    {
     "data": {
      "text/plain": [
       "0.017645846897773185"
      ]
     },
     "execution_count": 16,
     "metadata": {},
     "output_type": "execute_result"
    }
   ],
   "source": [
    "#BRIC first digit(2020)\n",
    "mad1=bf.mad(sp2.value20,test=1,decimals=8) #mad for first digit \n",
    "mad1"
   ]
  },
  {
   "cell_type": "code",
   "execution_count": 17,
   "id": "e29c5f44",
   "metadata": {},
   "outputs": [
    {
     "data": {
      "text/plain": [
       "0.022624514949974372"
      ]
     },
     "execution_count": 17,
     "metadata": {},
     "output_type": "execute_result"
    }
   ],
   "source": [
    "#BRIC first digit(2021)\n",
    "mad1=bf.mad(sp2.value21,test=1,decimals=8) #mad for first digit \n",
    "mad1"
   ]
  },
  {
   "cell_type": "code",
   "execution_count": 18,
   "id": "09682c0d",
   "metadata": {},
   "outputs": [
    {
     "data": {
      "text/plain": [
       "0.008425662037754394"
      ]
     },
     "execution_count": 18,
     "metadata": {},
     "output_type": "execute_result"
    }
   ],
   "source": [
    "#Bric second digit(2020)\n",
    "mad22=bf.mad(sp2.value20,test=22,decimals=8) #mad for second digit\n",
    "mad22"
   ]
  },
  {
   "cell_type": "code",
   "execution_count": 19,
   "id": "5845bf72",
   "metadata": {},
   "outputs": [
    {
     "data": {
      "text/plain": [
       "0.00937877035406951"
      ]
     },
     "execution_count": 19,
     "metadata": {},
     "output_type": "execute_result"
    }
   ],
   "source": [
    "#Bric second digit(2021)\n",
    "mad22=bf.mad(sp2.value21,test=22,decimals=8) #mad for second digit\n",
    "mad22"
   ]
  },
  {
   "cell_type": "code",
   "execution_count": null,
   "id": "c7569dc3",
   "metadata": {},
   "outputs": [],
   "source": []
  },
  {
   "cell_type": "code",
   "execution_count": 20,
   "id": "6a17ee58",
   "metadata": {},
   "outputs": [
    {
     "data": {
      "text/plain": [
       "0.0032669785962248102"
      ]
     },
     "execution_count": 20,
     "metadata": {},
     "output_type": "execute_result"
    }
   ],
   "source": [
    "#First two digit Benford of Bric(2020)\n",
    "mad2=bf.mad(sp2.value20,test=2,decimals=8) #mad for first two  digits\n",
    "mad2"
   ]
  },
  {
   "cell_type": "code",
   "execution_count": 21,
   "id": "a31a1b8f",
   "metadata": {},
   "outputs": [
    {
     "data": {
      "text/plain": [
       "0.0035739703496599877"
      ]
     },
     "execution_count": 21,
     "metadata": {},
     "output_type": "execute_result"
    }
   ],
   "source": [
    "#First two digit Benford of Bric(2021)\n",
    "mad2=bf.mad(sp2.value21,test=2,decimals=8) #mad for first two  digits\n",
    "mad2"
   ]
  },
  {
   "cell_type": "code",
   "execution_count": 5,
   "id": "23cc464a",
   "metadata": {},
   "outputs": [
    {
     "data": {
      "text/html": [
       "<div>\n",
       "<style scoped>\n",
       "    .dataframe tbody tr th:only-of-type {\n",
       "        vertical-align: middle;\n",
       "    }\n",
       "\n",
       "    .dataframe tbody tr th {\n",
       "        vertical-align: top;\n",
       "    }\n",
       "\n",
       "    .dataframe thead th {\n",
       "        text-align: right;\n",
       "    }\n",
       "</style>\n",
       "<table border=\"1\" class=\"dataframe\">\n",
       "  <thead>\n",
       "    <tr style=\"text-align: right;\">\n",
       "      <th></th>\n",
       "      <th>country</th>\n",
       "      <th>date</th>\n",
       "      <th>sector</th>\n",
       "      <th>value20</th>\n",
       "      <th>Unnamed: 4</th>\n",
       "      <th>country.1</th>\n",
       "      <th>date.1</th>\n",
       "      <th>sector.1</th>\n",
       "      <th>value21</th>\n",
       "      <th>Unnamed: 9</th>\n",
       "      <th>country.2</th>\n",
       "      <th>date.2</th>\n",
       "      <th>sector.2</th>\n",
       "      <th>value19</th>\n",
       "    </tr>\n",
       "  </thead>\n",
       "  <tbody>\n",
       "    <tr>\n",
       "      <th>0</th>\n",
       "      <td>Brazil</td>\n",
       "      <td>1/1/2020</td>\n",
       "      <td>Domestic Aviation</td>\n",
       "      <td>0.022615</td>\n",
       "      <td>NaN</td>\n",
       "      <td>Brazil</td>\n",
       "      <td>1/1/2021</td>\n",
       "      <td>Domestic Aviation</td>\n",
       "      <td>0.015856</td>\n",
       "      <td>NaN</td>\n",
       "      <td>Brazil</td>\n",
       "      <td>1/1/2019</td>\n",
       "      <td>Domestic Aviation</td>\n",
       "      <td>0.023750</td>\n",
       "    </tr>\n",
       "    <tr>\n",
       "      <th>1</th>\n",
       "      <td>Brazil</td>\n",
       "      <td>1/1/2020</td>\n",
       "      <td>Ground Transport</td>\n",
       "      <td>0.251534</td>\n",
       "      <td>NaN</td>\n",
       "      <td>Brazil</td>\n",
       "      <td>1/1/2021</td>\n",
       "      <td>Ground Transport</td>\n",
       "      <td>0.093956</td>\n",
       "      <td>NaN</td>\n",
       "      <td>Brazil</td>\n",
       "      <td>1/1/2019</td>\n",
       "      <td>Ground Transport</td>\n",
       "      <td>0.201663</td>\n",
       "    </tr>\n",
       "    <tr>\n",
       "      <th>2</th>\n",
       "      <td>Brazil</td>\n",
       "      <td>1/1/2020</td>\n",
       "      <td>Industry</td>\n",
       "      <td>0.314826</td>\n",
       "      <td>NaN</td>\n",
       "      <td>Brazil</td>\n",
       "      <td>1/1/2021</td>\n",
       "      <td>Industry</td>\n",
       "      <td>0.309095</td>\n",
       "      <td>NaN</td>\n",
       "      <td>Brazil</td>\n",
       "      <td>1/1/2019</td>\n",
       "      <td>Industry</td>\n",
       "      <td>0.240156</td>\n",
       "    </tr>\n",
       "    <tr>\n",
       "      <th>3</th>\n",
       "      <td>Brazil</td>\n",
       "      <td>1/1/2020</td>\n",
       "      <td>International Aviation</td>\n",
       "      <td>0.016853</td>\n",
       "      <td>NaN</td>\n",
       "      <td>Brazil</td>\n",
       "      <td>1/1/2021</td>\n",
       "      <td>International Aviation</td>\n",
       "      <td>0.006855</td>\n",
       "      <td>NaN</td>\n",
       "      <td>Brazil</td>\n",
       "      <td>1/1/2019</td>\n",
       "      <td>International Aviation</td>\n",
       "      <td>0.018398</td>\n",
       "    </tr>\n",
       "    <tr>\n",
       "      <th>4</th>\n",
       "      <td>Brazil</td>\n",
       "      <td>1/1/2020</td>\n",
       "      <td>Power</td>\n",
       "      <td>0.302034</td>\n",
       "      <td>NaN</td>\n",
       "      <td>Brazil</td>\n",
       "      <td>1/1/2021</td>\n",
       "      <td>Power</td>\n",
       "      <td>0.297697</td>\n",
       "      <td>NaN</td>\n",
       "      <td>Brazil</td>\n",
       "      <td>1/1/2019</td>\n",
       "      <td>Power</td>\n",
       "      <td>0.107724</td>\n",
       "    </tr>\n",
       "    <tr>\n",
       "      <th>...</th>\n",
       "      <td>...</td>\n",
       "      <td>...</td>\n",
       "      <td>...</td>\n",
       "      <td>...</td>\n",
       "      <td>...</td>\n",
       "      <td>...</td>\n",
       "      <td>...</td>\n",
       "      <td>...</td>\n",
       "      <td>...</td>\n",
       "      <td>...</td>\n",
       "      <td>...</td>\n",
       "      <td>...</td>\n",
       "      <td>...</td>\n",
       "      <td>...</td>\n",
       "    </tr>\n",
       "    <tr>\n",
       "      <th>17563</th>\n",
       "      <td>WORLD</td>\n",
       "      <td>12/31/2020</td>\n",
       "      <td>Ground Transport</td>\n",
       "      <td>16.221700</td>\n",
       "      <td>NaN</td>\n",
       "      <td>NaN</td>\n",
       "      <td>NaN</td>\n",
       "      <td>NaN</td>\n",
       "      <td>NaN</td>\n",
       "      <td>NaN</td>\n",
       "      <td>NaN</td>\n",
       "      <td>NaN</td>\n",
       "      <td>NaN</td>\n",
       "      <td>NaN</td>\n",
       "    </tr>\n",
       "    <tr>\n",
       "      <th>17564</th>\n",
       "      <td>WORLD</td>\n",
       "      <td>12/31/2020</td>\n",
       "      <td>Industry</td>\n",
       "      <td>31.057500</td>\n",
       "      <td>NaN</td>\n",
       "      <td>NaN</td>\n",
       "      <td>NaN</td>\n",
       "      <td>NaN</td>\n",
       "      <td>NaN</td>\n",
       "      <td>NaN</td>\n",
       "      <td>NaN</td>\n",
       "      <td>NaN</td>\n",
       "      <td>NaN</td>\n",
       "      <td>NaN</td>\n",
       "    </tr>\n",
       "    <tr>\n",
       "      <th>17565</th>\n",
       "      <td>WORLD</td>\n",
       "      <td>12/31/2020</td>\n",
       "      <td>International Aviation</td>\n",
       "      <td>0.623981</td>\n",
       "      <td>NaN</td>\n",
       "      <td>NaN</td>\n",
       "      <td>NaN</td>\n",
       "      <td>NaN</td>\n",
       "      <td>NaN</td>\n",
       "      <td>NaN</td>\n",
       "      <td>NaN</td>\n",
       "      <td>NaN</td>\n",
       "      <td>NaN</td>\n",
       "      <td>NaN</td>\n",
       "    </tr>\n",
       "    <tr>\n",
       "      <th>17566</th>\n",
       "      <td>WORLD</td>\n",
       "      <td>12/31/2020</td>\n",
       "      <td>Power</td>\n",
       "      <td>39.005500</td>\n",
       "      <td>NaN</td>\n",
       "      <td>NaN</td>\n",
       "      <td>NaN</td>\n",
       "      <td>NaN</td>\n",
       "      <td>NaN</td>\n",
       "      <td>NaN</td>\n",
       "      <td>NaN</td>\n",
       "      <td>NaN</td>\n",
       "      <td>NaN</td>\n",
       "      <td>NaN</td>\n",
       "    </tr>\n",
       "    <tr>\n",
       "      <th>17567</th>\n",
       "      <td>WORLD</td>\n",
       "      <td>12/31/2020</td>\n",
       "      <td>Residential</td>\n",
       "      <td>19.702200</td>\n",
       "      <td>NaN</td>\n",
       "      <td>NaN</td>\n",
       "      <td>NaN</td>\n",
       "      <td>NaN</td>\n",
       "      <td>NaN</td>\n",
       "      <td>NaN</td>\n",
       "      <td>NaN</td>\n",
       "      <td>NaN</td>\n",
       "      <td>NaN</td>\n",
       "      <td>NaN</td>\n",
       "    </tr>\n",
       "  </tbody>\n",
       "</table>\n",
       "<p>17568 rows × 14 columns</p>\n",
       "</div>"
      ],
      "text/plain": [
       "      country        date                  sector    value20  Unnamed: 4  \\\n",
       "0      Brazil    1/1/2020       Domestic Aviation   0.022615         NaN   \n",
       "1      Brazil    1/1/2020        Ground Transport   0.251534         NaN   \n",
       "2      Brazil    1/1/2020                Industry   0.314826         NaN   \n",
       "3      Brazil    1/1/2020  International Aviation   0.016853         NaN   \n",
       "4      Brazil    1/1/2020                   Power   0.302034         NaN   \n",
       "...       ...         ...                     ...        ...         ...   \n",
       "17563   WORLD  12/31/2020        Ground Transport  16.221700         NaN   \n",
       "17564   WORLD  12/31/2020                Industry  31.057500         NaN   \n",
       "17565   WORLD  12/31/2020  International Aviation   0.623981         NaN   \n",
       "17566   WORLD  12/31/2020                   Power  39.005500         NaN   \n",
       "17567   WORLD  12/31/2020             Residential  19.702200         NaN   \n",
       "\n",
       "      country.1    date.1                sector.1   value21  Unnamed: 9  \\\n",
       "0        Brazil  1/1/2021       Domestic Aviation  0.015856         NaN   \n",
       "1        Brazil  1/1/2021        Ground Transport  0.093956         NaN   \n",
       "2        Brazil  1/1/2021                Industry  0.309095         NaN   \n",
       "3        Brazil  1/1/2021  International Aviation  0.006855         NaN   \n",
       "4        Brazil  1/1/2021                   Power  0.297697         NaN   \n",
       "...         ...       ...                     ...       ...         ...   \n",
       "17563       NaN       NaN                     NaN       NaN         NaN   \n",
       "17564       NaN       NaN                     NaN       NaN         NaN   \n",
       "17565       NaN       NaN                     NaN       NaN         NaN   \n",
       "17566       NaN       NaN                     NaN       NaN         NaN   \n",
       "17567       NaN       NaN                     NaN       NaN         NaN   \n",
       "\n",
       "      country.2    date.2                sector.2   value19  \n",
       "0        Brazil  1/1/2019       Domestic Aviation  0.023750  \n",
       "1        Brazil  1/1/2019        Ground Transport  0.201663  \n",
       "2        Brazil  1/1/2019                Industry  0.240156  \n",
       "3        Brazil  1/1/2019  International Aviation  0.018398  \n",
       "4        Brazil  1/1/2019                   Power  0.107724  \n",
       "...         ...       ...                     ...       ...  \n",
       "17563       NaN       NaN                     NaN       NaN  \n",
       "17564       NaN       NaN                     NaN       NaN  \n",
       "17565       NaN       NaN                     NaN       NaN  \n",
       "17566       NaN       NaN                     NaN       NaN  \n",
       "17567       NaN       NaN                     NaN       NaN  \n",
       "\n",
       "[17568 rows x 14 columns]"
      ]
     },
     "execution_count": 5,
     "metadata": {},
     "output_type": "execute_result"
    }
   ],
   "source": [
    "import benford as bf\n",
    "import pandas as pd\n",
    "sp3=pd.read_csv('Global_project.csv') \n",
    "sp3"
   ]
  },
  {
   "cell_type": "code",
   "execution_count": 14,
   "id": "c290c5d5",
   "metadata": {},
   "outputs": [
    {
     "name": "stderr",
     "output_type": "stream",
     "text": [
      "C:\\Users\\HP\\anaconda3\\Lib\\site-packages\\benford\\benford.py:759: SettingWithCopyWarning: \n",
      "A value is trying to be set on a copy of a slice from a DataFrame.\n",
      "Try using .loc[row_indexer,col_indexer] = value instead\n",
      "\n",
      "See the caveats in the documentation: https://pandas.pydata.org/pandas-docs/stable/user_guide/indexing.html#returning-a-view-versus-a-copy\n",
      "  temp[DIGS[digs]] = (temp.ZN // 10 ** ((log10(temp.ZN).astype(\n"
     ]
    },
    {
     "data": {
      "text/plain": [
       "0.01438937891131728"
      ]
     },
     "execution_count": 14,
     "metadata": {},
     "output_type": "execute_result"
    }
   ],
   "source": [
    "#Global  first digit project 2019\n",
    "mad1=bf.mad(sp3.value19,test=1,decimals=8) #mad for first digit\n",
    "mad1"
   ]
  },
  {
   "cell_type": "code",
   "execution_count": 13,
   "id": "e8f7df4f",
   "metadata": {},
   "outputs": [
    {
     "name": "stdout",
     "output_type": "stream",
     "text": [
      "MAD: 0.02003806833669832\n"
     ]
    },
    {
     "name": "stderr",
     "output_type": "stream",
     "text": [
      "C:\\Users\\HP\\anaconda3\\Lib\\site-packages\\benford\\benford.py:880: SettingWithCopyWarning: \n",
      "A value is trying to be set on a copy of a slice from a DataFrame.\n",
      "Try using .loc[row_indexer,col_indexer] = value instead\n",
      "\n",
      "See the caveats in the documentation: https://pandas.pydata.org/pandas-docs/stable/user_guide/indexing.html#returning-a-view-versus-a-copy\n",
      "  temp['SD'] = (temp.ZN // 10 ** ((log10(temp.ZN)).astype(\n"
     ]
    }
   ],
   "source": [
    "#Global second digit(2019)\n",
    "mad22=bf.mad(sp3.value19,test=22,decimals=8) #mad for second digit\n",
    "print('MAD:',mad22)"
   ]
  },
  {
   "cell_type": "code",
   "execution_count": 12,
   "id": "93866135",
   "metadata": {},
   "outputs": [
    {
     "name": "stderr",
     "output_type": "stream",
     "text": [
      "C:\\Users\\HP\\anaconda3\\Lib\\site-packages\\benford\\benford.py:759: SettingWithCopyWarning: \n",
      "A value is trying to be set on a copy of a slice from a DataFrame.\n",
      "Try using .loc[row_indexer,col_indexer] = value instead\n",
      "\n",
      "See the caveats in the documentation: https://pandas.pydata.org/pandas-docs/stable/user_guide/indexing.html#returning-a-view-versus-a-copy\n",
      "  temp[DIGS[digs]] = (temp.ZN // 10 ** ((log10(temp.ZN).astype(\n"
     ]
    },
    {
     "data": {
      "text/plain": [
       "0.004010584455560087"
      ]
     },
     "execution_count": 12,
     "metadata": {},
     "output_type": "execute_result"
    }
   ],
   "source": [
    "#First two digit Benford of global(2019)\n",
    "mad2=bf.mad(sp3.value19,test=2,decimals=8) #mad for first two  digit\n",
    "mad2"
   ]
  },
  {
   "cell_type": "code",
   "execution_count": 11,
   "id": "d22164e2",
   "metadata": {},
   "outputs": [
    {
     "name": "stderr",
     "output_type": "stream",
     "text": [
      "C:\\Users\\HP\\anaconda3\\Lib\\site-packages\\benford\\benford.py:759: SettingWithCopyWarning: \n",
      "A value is trying to be set on a copy of a slice from a DataFrame.\n",
      "Try using .loc[row_indexer,col_indexer] = value instead\n",
      "\n",
      "See the caveats in the documentation: https://pandas.pydata.org/pandas-docs/stable/user_guide/indexing.html#returning-a-view-versus-a-copy\n",
      "  temp[DIGS[digs]] = (temp.ZN // 10 ** ((log10(temp.ZN).astype(\n"
     ]
    },
    {
     "data": {
      "text/plain": [
       "0.013771348102253092"
      ]
     },
     "execution_count": 11,
     "metadata": {},
     "output_type": "execute_result"
    }
   ],
   "source": [
    "#Global  first digit project 2020\n",
    "mad1=bf.mad(sp3.value20,test=1,decimals=8) #mad for first digit\n",
    "mad1"
   ]
  },
  {
   "cell_type": "code",
   "execution_count": 10,
   "id": "994041d2",
   "metadata": {},
   "outputs": [
    {
     "name": "stdout",
     "output_type": "stream",
     "text": [
      "MAD 0.01645192721440684\n"
     ]
    },
    {
     "name": "stderr",
     "output_type": "stream",
     "text": [
      "C:\\Users\\HP\\anaconda3\\Lib\\site-packages\\benford\\benford.py:759: SettingWithCopyWarning: \n",
      "A value is trying to be set on a copy of a slice from a DataFrame.\n",
      "Try using .loc[row_indexer,col_indexer] = value instead\n",
      "\n",
      "See the caveats in the documentation: https://pandas.pydata.org/pandas-docs/stable/user_guide/indexing.html#returning-a-view-versus-a-copy\n",
      "  temp[DIGS[digs]] = (temp.ZN // 10 ** ((log10(temp.ZN).astype(\n"
     ]
    }
   ],
   "source": [
    "#Global  first digit project 2021\n",
    "mad1=bf.mad(sp3.value21,test=1,decimals=8) #mad for first digit\n",
    "print('MAD',mad1)"
   ]
  },
  {
   "cell_type": "code",
   "execution_count": 9,
   "id": "c6b72026",
   "metadata": {},
   "outputs": [
    {
     "name": "stdout",
     "output_type": "stream",
     "text": [
      "MAD: 0.005908221294688912\n"
     ]
    },
    {
     "name": "stderr",
     "output_type": "stream",
     "text": [
      "C:\\Users\\HP\\anaconda3\\Lib\\site-packages\\benford\\benford.py:880: SettingWithCopyWarning: \n",
      "A value is trying to be set on a copy of a slice from a DataFrame.\n",
      "Try using .loc[row_indexer,col_indexer] = value instead\n",
      "\n",
      "See the caveats in the documentation: https://pandas.pydata.org/pandas-docs/stable/user_guide/indexing.html#returning-a-view-versus-a-copy\n",
      "  temp['SD'] = (temp.ZN // 10 ** ((log10(temp.ZN)).astype(\n"
     ]
    }
   ],
   "source": [
    "#Global second digit(2020)\n",
    "mad22=bf.mad(sp3.value20,test=22,decimals=8) #mad for second digit\n",
    "print('MAD:',mad22)"
   ]
  },
  {
   "cell_type": "code",
   "execution_count": 8,
   "id": "e35781ad",
   "metadata": {},
   "outputs": [
    {
     "name": "stdout",
     "output_type": "stream",
     "text": [
      "MAD: 0.009777823291311948\n"
     ]
    },
    {
     "name": "stderr",
     "output_type": "stream",
     "text": [
      "C:\\Users\\HP\\anaconda3\\Lib\\site-packages\\benford\\benford.py:880: SettingWithCopyWarning: \n",
      "A value is trying to be set on a copy of a slice from a DataFrame.\n",
      "Try using .loc[row_indexer,col_indexer] = value instead\n",
      "\n",
      "See the caveats in the documentation: https://pandas.pydata.org/pandas-docs/stable/user_guide/indexing.html#returning-a-view-versus-a-copy\n",
      "  temp['SD'] = (temp.ZN // 10 ** ((log10(temp.ZN)).astype(\n"
     ]
    }
   ],
   "source": [
    "#Global second digit(2021)\n",
    "mad22=bf.mad(sp3.value21,test=22,decimals=8) #mad for second digit\n",
    "print('MAD:',mad22)"
   ]
  },
  {
   "cell_type": "code",
   "execution_count": 7,
   "id": "d1f5e557",
   "metadata": {},
   "outputs": [
    {
     "name": "stderr",
     "output_type": "stream",
     "text": [
      "C:\\Users\\HP\\anaconda3\\Lib\\site-packages\\benford\\benford.py:759: SettingWithCopyWarning: \n",
      "A value is trying to be set on a copy of a slice from a DataFrame.\n",
      "Try using .loc[row_indexer,col_indexer] = value instead\n",
      "\n",
      "See the caveats in the documentation: https://pandas.pydata.org/pandas-docs/stable/user_guide/indexing.html#returning-a-view-versus-a-copy\n",
      "  temp[DIGS[digs]] = (temp.ZN // 10 ** ((log10(temp.ZN).astype(\n"
     ]
    },
    {
     "data": {
      "text/plain": [
       "0.0019313246548685508"
      ]
     },
     "execution_count": 7,
     "metadata": {},
     "output_type": "execute_result"
    }
   ],
   "source": [
    "#First two digit Benford of global(2020)\n",
    "mad2=bf.mad(sp3.value20,test=2,decimals=8) #mad for first two  digit\n",
    "mad2"
   ]
  },
  {
   "cell_type": "code",
   "execution_count": 6,
   "id": "356c0644",
   "metadata": {},
   "outputs": [
    {
     "name": "stderr",
     "output_type": "stream",
     "text": [
      "C:\\Users\\HP\\anaconda3\\Lib\\site-packages\\benford\\benford.py:759: SettingWithCopyWarning: \n",
      "A value is trying to be set on a copy of a slice from a DataFrame.\n",
      "Try using .loc[row_indexer,col_indexer] = value instead\n",
      "\n",
      "See the caveats in the documentation: https://pandas.pydata.org/pandas-docs/stable/user_guide/indexing.html#returning-a-view-versus-a-copy\n",
      "  temp[DIGS[digs]] = (temp.ZN // 10 ** ((log10(temp.ZN).astype(\n"
     ]
    },
    {
     "data": {
      "text/plain": [
       "0.0024575631455784888"
      ]
     },
     "execution_count": 6,
     "metadata": {},
     "output_type": "execute_result"
    }
   ],
   "source": [
    "#First two digit Benford of global(2021)\n",
    "mad2=bf.mad(sp3.value21,test=2,decimals=8) #mad for first two  digit\n",
    "mad2"
   ]
  },
  {
   "cell_type": "code",
   "execution_count": 2,
   "id": "245d13b3",
   "metadata": {},
   "outputs": [
    {
     "name": "stderr",
     "output_type": "stream",
     "text": [
      "C:\\Users\\HP\\anaconda3\\Lib\\site-packages\\benford\\benford.py:759: SettingWithCopyWarning: \n",
      "A value is trying to be set on a copy of a slice from a DataFrame.\n",
      "Try using .loc[row_indexer,col_indexer] = value instead\n",
      "\n",
      "See the caveats in the documentation: https://pandas.pydata.org/pandas-docs/stable/user_guide/indexing.html#returning-a-view-versus-a-copy\n",
      "  temp[DIGS[digs]] = (temp.ZN // 10 ** ((log10(temp.ZN).astype(\n"
     ]
    },
    {
     "data": {
      "text/plain": [
       "0.05978763217983439"
      ]
     },
     "execution_count": 2,
     "metadata": {},
     "output_type": "execute_result"
    }
   ],
   "source": [
    "#Global Sectorwise\n",
    "import benford as bf\n",
    "#Global(power) first digit(2020)\n",
    "mad1=bf.mad(sp.value20,test=1,decimals=8) #mad for first digit\n",
    "mad1"
   ]
  },
  {
   "cell_type": "code",
   "execution_count": 3,
   "id": "36117642",
   "metadata": {},
   "outputs": [
    {
     "name": "stderr",
     "output_type": "stream",
     "text": [
      "C:\\Users\\HP\\anaconda3\\Lib\\site-packages\\benford\\benford.py:880: SettingWithCopyWarning: \n",
      "A value is trying to be set on a copy of a slice from a DataFrame.\n",
      "Try using .loc[row_indexer,col_indexer] = value instead\n",
      "\n",
      "See the caveats in the documentation: https://pandas.pydata.org/pandas-docs/stable/user_guide/indexing.html#returning-a-view-versus-a-copy\n",
      "  temp['SD'] = (temp.ZN // 10 ** ((log10(temp.ZN)).astype(\n"
     ]
    },
    {
     "data": {
      "text/plain": [
       "0.015270786042365809"
      ]
     },
     "execution_count": 3,
     "metadata": {},
     "output_type": "execute_result"
    }
   ],
   "source": [
    "#Global(power) second digit(2020)\n",
    "mad22=bf.mad(sp.value20-3,test=22,decimals=8) #mad for second digit\n",
    "mad22"
   ]
  },
  {
   "cell_type": "code",
   "execution_count": 4,
   "id": "25a351ba",
   "metadata": {},
   "outputs": [
    {
     "name": "stderr",
     "output_type": "stream",
     "text": [
      "C:\\Users\\HP\\anaconda3\\Lib\\site-packages\\benford\\benford.py:759: SettingWithCopyWarning: \n",
      "A value is trying to be set on a copy of a slice from a DataFrame.\n",
      "Try using .loc[row_indexer,col_indexer] = value instead\n",
      "\n",
      "See the caveats in the documentation: https://pandas.pydata.org/pandas-docs/stable/user_guide/indexing.html#returning-a-view-versus-a-copy\n",
      "  temp[DIGS[digs]] = (temp.ZN // 10 ** ((log10(temp.ZN).astype(\n"
     ]
    },
    {
     "data": {
      "text/plain": [
       "0.006658114586069399"
      ]
     },
     "execution_count": 4,
     "metadata": {},
     "output_type": "execute_result"
    }
   ],
   "source": [
    "#First two digit Benford of global(power)(2020)\n",
    "mad2=bf.mad(sp.value20,test=2,decimals=8) #mad for first two  digits\n",
    "mad2"
   ]
  },
  {
   "cell_type": "code",
   "execution_count": 5,
   "id": "c660b7d4",
   "metadata": {},
   "outputs": [
    {
     "name": "stderr",
     "output_type": "stream",
     "text": [
      "C:\\Users\\HP\\anaconda3\\Lib\\site-packages\\benford\\benford.py:759: SettingWithCopyWarning: \n",
      "A value is trying to be set on a copy of a slice from a DataFrame.\n",
      "Try using .loc[row_indexer,col_indexer] = value instead\n",
      "\n",
      "See the caveats in the documentation: https://pandas.pydata.org/pandas-docs/stable/user_guide/indexing.html#returning-a-view-versus-a-copy\n",
      "  temp[DIGS[digs]] = (temp.ZN // 10 ** ((log10(temp.ZN).astype(\n"
     ]
    },
    {
     "data": {
      "text/plain": [
       "0.05270345489854343"
      ]
     },
     "execution_count": 5,
     "metadata": {},
     "output_type": "execute_result"
    }
   ],
   "source": [
    "#Global(power) first digit(2021)\n",
    "mad1=bf.mad(sp.value21,test=1,decimals=8) #mad for first digit\n",
    "mad1"
   ]
  },
  {
   "cell_type": "code",
   "execution_count": 6,
   "id": "ce0d57b0",
   "metadata": {},
   "outputs": [
    {
     "name": "stderr",
     "output_type": "stream",
     "text": [
      "C:\\Users\\HP\\anaconda3\\Lib\\site-packages\\benford\\benford.py:880: SettingWithCopyWarning: \n",
      "A value is trying to be set on a copy of a slice from a DataFrame.\n",
      "Try using .loc[row_indexer,col_indexer] = value instead\n",
      "\n",
      "See the caveats in the documentation: https://pandas.pydata.org/pandas-docs/stable/user_guide/indexing.html#returning-a-view-versus-a-copy\n",
      "  temp['SD'] = (temp.ZN // 10 ** ((log10(temp.ZN)).astype(\n"
     ]
    },
    {
     "data": {
      "text/plain": [
       "0.009865216764413346"
      ]
     },
     "execution_count": 6,
     "metadata": {},
     "output_type": "execute_result"
    }
   ],
   "source": [
    "#Global(power) second digit(2021)\n",
    "mad22=bf.mad(sp.value21,test=22,decimals=8) #mad for second digit\n",
    "mad22"
   ]
  },
  {
   "cell_type": "code",
   "execution_count": 7,
   "id": "e776f2a1",
   "metadata": {},
   "outputs": [
    {
     "name": "stderr",
     "output_type": "stream",
     "text": [
      "C:\\Users\\HP\\anaconda3\\Lib\\site-packages\\benford\\benford.py:759: SettingWithCopyWarning: \n",
      "A value is trying to be set on a copy of a slice from a DataFrame.\n",
      "Try using .loc[row_indexer,col_indexer] = value instead\n",
      "\n",
      "See the caveats in the documentation: https://pandas.pydata.org/pandas-docs/stable/user_guide/indexing.html#returning-a-view-versus-a-copy\n",
      "  temp[DIGS[digs]] = (temp.ZN // 10 ** ((log10(temp.ZN).astype(\n"
     ]
    },
    {
     "data": {
      "text/plain": [
       "0.00605413392275893"
      ]
     },
     "execution_count": 7,
     "metadata": {},
     "output_type": "execute_result"
    }
   ],
   "source": [
    "#First two digit Benford of global(power)(2021)\n",
    "mad2=bf.mad(sp.value21,test=2,decimals=8) #mad for first two  digits\n",
    "mad2"
   ]
  },
  {
   "cell_type": "code",
   "execution_count": 8,
   "id": "50fbe71a",
   "metadata": {},
   "outputs": [
    {
     "name": "stderr",
     "output_type": "stream",
     "text": [
      "C:\\Users\\HP\\anaconda3\\Lib\\site-packages\\benford\\benford.py:759: SettingWithCopyWarning: \n",
      "A value is trying to be set on a copy of a slice from a DataFrame.\n",
      "Try using .loc[row_indexer,col_indexer] = value instead\n",
      "\n",
      "See the caveats in the documentation: https://pandas.pydata.org/pandas-docs/stable/user_guide/indexing.html#returning-a-view-versus-a-copy\n",
      "  temp[DIGS[digs]] = (temp.ZN // 10 ** ((log10(temp.ZN).astype(\n"
     ]
    },
    {
     "data": {
      "text/plain": [
       "0.048205093583550254"
      ]
     },
     "execution_count": 8,
     "metadata": {},
     "output_type": "execute_result"
    }
   ],
   "source": [
    "#Global(industry) first digit(2020)\n",
    "mad1=bf.mad(sp.value20a,test=1,decimals=8) #mad for first digit\n",
    "mad1"
   ]
  },
  {
   "cell_type": "code",
   "execution_count": 9,
   "id": "96089255",
   "metadata": {},
   "outputs": [
    {
     "name": "stderr",
     "output_type": "stream",
     "text": [
      "C:\\Users\\HP\\anaconda3\\Lib\\site-packages\\benford\\benford.py:880: SettingWithCopyWarning: \n",
      "A value is trying to be set on a copy of a slice from a DataFrame.\n",
      "Try using .loc[row_indexer,col_indexer] = value instead\n",
      "\n",
      "See the caveats in the documentation: https://pandas.pydata.org/pandas-docs/stable/user_guide/indexing.html#returning-a-view-versus-a-copy\n",
      "  temp['SD'] = (temp.ZN // 10 ** ((log10(temp.ZN)).astype(\n"
     ]
    },
    {
     "data": {
      "text/plain": [
       "0.010588504668016105"
      ]
     },
     "execution_count": 9,
     "metadata": {},
     "output_type": "execute_result"
    }
   ],
   "source": [
    "#Global(industry) second digit(2020)\n",
    "mad22=bf.mad(sp.value20a,test=22,decimals=8) #mad for second digit\n",
    "mad22"
   ]
  },
  {
   "cell_type": "code",
   "execution_count": 14,
   "id": "d15640a1",
   "metadata": {},
   "outputs": [
    {
     "name": "stderr",
     "output_type": "stream",
     "text": [
      "C:\\Users\\HP\\anaconda3\\Lib\\site-packages\\benford\\benford.py:759: SettingWithCopyWarning: \n",
      "A value is trying to be set on a copy of a slice from a DataFrame.\n",
      "Try using .loc[row_indexer,col_indexer] = value instead\n",
      "\n",
      "See the caveats in the documentation: https://pandas.pydata.org/pandas-docs/stable/user_guide/indexing.html#returning-a-view-versus-a-copy\n",
      "  temp[DIGS[digs]] = (temp.ZN // 10 ** ((log10(temp.ZN).astype(\n"
     ]
    },
    {
     "data": {
      "text/plain": [
       "0.005508250599190598"
      ]
     },
     "execution_count": 14,
     "metadata": {},
     "output_type": "execute_result"
    }
   ],
   "source": [
    "#First two digit Benford of global(industry)(2020)\n",
    "mad2=bf.mad(sp.value20a,test=2,decimals=8) #mad for first two  digits\n",
    "mad2"
   ]
  },
  {
   "cell_type": "code",
   "execution_count": 16,
   "id": "f33cf0c9",
   "metadata": {},
   "outputs": [
    {
     "name": "stderr",
     "output_type": "stream",
     "text": [
      "C:\\Users\\HP\\anaconda3\\Lib\\site-packages\\benford\\benford.py:759: SettingWithCopyWarning: \n",
      "A value is trying to be set on a copy of a slice from a DataFrame.\n",
      "Try using .loc[row_indexer,col_indexer] = value instead\n",
      "\n",
      "See the caveats in the documentation: https://pandas.pydata.org/pandas-docs/stable/user_guide/indexing.html#returning-a-view-versus-a-copy\n",
      "  temp[DIGS[digs]] = (temp.ZN // 10 ** ((log10(temp.ZN).astype(\n"
     ]
    },
    {
     "data": {
      "text/plain": [
       "0.05569472589307921"
      ]
     },
     "execution_count": 16,
     "metadata": {},
     "output_type": "execute_result"
    }
   ],
   "source": [
    "#Global(industry) first digit(2021)\n",
    "mad1=bf.mad(sp.valuie21a,test=1,decimals=8) #mad for first digit\n",
    "mad1"
   ]
  },
  {
   "cell_type": "code",
   "execution_count": 18,
   "id": "a8effa80",
   "metadata": {},
   "outputs": [
    {
     "name": "stderr",
     "output_type": "stream",
     "text": [
      "C:\\Users\\HP\\anaconda3\\Lib\\site-packages\\benford\\benford.py:880: SettingWithCopyWarning: \n",
      "A value is trying to be set on a copy of a slice from a DataFrame.\n",
      "Try using .loc[row_indexer,col_indexer] = value instead\n",
      "\n",
      "See the caveats in the documentation: https://pandas.pydata.org/pandas-docs/stable/user_guide/indexing.html#returning-a-view-versus-a-copy\n",
      "  temp['SD'] = (temp.ZN // 10 ** ((log10(temp.ZN)).astype(\n"
     ]
    },
    {
     "data": {
      "text/plain": [
       "0.014909683017098375"
      ]
     },
     "execution_count": 18,
     "metadata": {},
     "output_type": "execute_result"
    }
   ],
   "source": [
    "#Global(industry) second digit(2021)\n",
    "mad22=bf.mad(sp.valuie21a,test=22,decimals=8) #mad for second digit\n",
    "mad22"
   ]
  },
  {
   "cell_type": "code",
   "execution_count": 19,
   "id": "efb7e18a",
   "metadata": {},
   "outputs": [
    {
     "name": "stderr",
     "output_type": "stream",
     "text": [
      "C:\\Users\\HP\\anaconda3\\Lib\\site-packages\\benford\\benford.py:759: SettingWithCopyWarning: \n",
      "A value is trying to be set on a copy of a slice from a DataFrame.\n",
      "Try using .loc[row_indexer,col_indexer] = value instead\n",
      "\n",
      "See the caveats in the documentation: https://pandas.pydata.org/pandas-docs/stable/user_guide/indexing.html#returning-a-view-versus-a-copy\n",
      "  temp[DIGS[digs]] = (temp.ZN // 10 ** ((log10(temp.ZN).astype(\n"
     ]
    },
    {
     "data": {
      "text/plain": [
       "0.006864105321331363"
      ]
     },
     "execution_count": 19,
     "metadata": {},
     "output_type": "execute_result"
    }
   ],
   "source": [
    "#First two digit Benford of global(industry)(2021)\n",
    "mad2=bf.mad(sp.valuie21a,test=2,decimals=8) #mad for first two  digits\n",
    "mad2"
   ]
  },
  {
   "cell_type": "code",
   "execution_count": 21,
   "id": "c3231aa5",
   "metadata": {},
   "outputs": [
    {
     "data": {
      "text/plain": [
       "0.01982472776779788"
      ]
     },
     "execution_count": 21,
     "metadata": {},
     "output_type": "execute_result"
    }
   ],
   "source": [
    "#Global(Domestic aviat.) first digit(2020)\n",
    "mad1=bf.mad(sp.value20b,test=1,decimals=8) #mad for first digit\n",
    "mad1"
   ]
  },
  {
   "cell_type": "code",
   "execution_count": 26,
   "id": "38915d42",
   "metadata": {},
   "outputs": [
    {
     "data": {
      "text/plain": [
       "0.011805431357047721"
      ]
     },
     "execution_count": 26,
     "metadata": {},
     "output_type": "execute_result"
    }
   ],
   "source": [
    "\n",
    "#Global(Doms.Avit) second digit(2020)\n",
    "mad22=bf.mad(sp.value20b,test=22,decimals=8) #mad for second digit\n",
    "mad22"
   ]
  },
  {
   "cell_type": "code",
   "execution_count": 27,
   "id": "06c512a2",
   "metadata": {},
   "outputs": [
    {
     "data": {
      "text/plain": [
       "0.003341121241278425"
      ]
     },
     "execution_count": 27,
     "metadata": {},
     "output_type": "execute_result"
    }
   ],
   "source": [
    "#First two digit Benford of global(Domes.Avit)(2020)\n",
    "mad2=bf.mad(sp.value20b,test=2,decimals=8) #mad for first two  digits\n",
    "mad2"
   ]
  },
  {
   "cell_type": "code",
   "execution_count": 28,
   "id": "3e5b7ebb",
   "metadata": {},
   "outputs": [
    {
     "name": "stdout",
     "output_type": "stream",
     "text": [
      "\n",
      "Initialized sequence with 2920 registries.\n",
      "\n",
      "Test performed on 2920 registries.\n",
      "Discarded 0 records < 1 after preparation.\n"
     ]
    },
    {
     "data": {
      "image/png": "[encoded data removed]",
      "text/plain": [
       "<Figure size 1200x900 with 1 Axes>"
      ]
     },
     "metadata": {},
     "output_type": "display_data"
    },
    {
     "name": "stdout",
     "output_type": "stream",
     "text": [
      "f1d:              Counts     Found  Expected\n",
      "First_1_Dig                            \n",
      "1              1158  0.396575  0.301030\n",
      "2               348  0.119178  0.176091\n",
      "3               297  0.101712  0.124939\n",
      "4               430  0.147260  0.096910\n",
      "5               152  0.052055  0.079181\n",
      "6               155  0.053082  0.066947\n",
      "7                43  0.014726  0.057992\n",
      "8               161  0.055137  0.051153\n",
      "9               176  0.060274  0.045757\n",
      "MAD: 0.03653256748052705\n"
     ]
    }
   ],
   "source": [
    "#Global(Doms.Aviatn.)  first digit project 2021\n",
    "f1d=bf.first_digits(sp.value21b,digs=1,decimals=8) #for the first digit(1-9\n",
    "print('f1d:',f1d)\n",
    "mad1=bf.mad(sp.value21b,test=1,decimals=8) #mad for first digit\n",
    "print('MAD:',mad1)"
   ]
  },
  {
   "cell_type": "code",
   "execution_count": 29,
   "id": "3ec22a50",
   "metadata": {},
   "outputs": [
    {
     "data": {
      "text/plain": [
       "0.012157943594179398"
      ]
     },
     "execution_count": 29,
     "metadata": {},
     "output_type": "execute_result"
    }
   ],
   "source": [
    "#Global(Doms.Avit) second digit(2021)\n",
    "mad22=bf.mad(sp.value21b,test=22,decimals=8) #mad for second digit\n",
    "mad22"
   ]
  },
  {
   "cell_type": "code",
   "execution_count": 10,
   "id": "3a02615e",
   "metadata": {},
   "outputs": [
    {
     "data": {
      "text/plain": [
       "0.004781156981445452"
      ]
     },
     "execution_count": 10,
     "metadata": {},
     "output_type": "execute_result"
    }
   ],
   "source": [
    "#Global(Doms.Avit) two digit(2021)\n",
    "mad2=bf.mad(sp.value21b,test=2,decimals=8) #mad for first two  digits\n",
    "mad2"
   ]
  },
  {
   "cell_type": "code",
   "execution_count": 31,
   "id": "9e0686f1",
   "metadata": {},
   "outputs": [
    {
     "name": "stdout",
     "output_type": "stream",
     "text": [
      "\n",
      "Initialized sequence with 2928 registries.\n",
      "\n",
      "Test performed on 2928 registries.\n",
      "Discarded 0 records < 1 after preparation.\n"
     ]
    },
    {
     "data": {
      "image/png": "[encoded data removed]",
      "text/plain": [
       "<Figure size 1200x900 with 1 Axes>"
      ]
     },
     "metadata": {},
     "output_type": "display_data"
    },
    {
     "name": "stdout",
     "output_type": "stream",
     "text": [
      "f1d:              Counts     Found  Expected\n",
      "First_1_Dig                            \n",
      "1               886  0.302596  0.301030\n",
      "2               617  0.210724  0.176091\n",
      "3               393  0.134221  0.124939\n",
      "4               204  0.069672  0.096910\n",
      "5               155  0.052937  0.079181\n",
      "6               215  0.073429  0.066947\n",
      "7               197  0.067281  0.057992\n",
      "8               150  0.051230  0.051153\n",
      "9               111  0.037910  0.045757\n",
      "MAD: 0.013628805318510281\n"
     ]
    }
   ],
   "source": [
    "#Global(Intern.Aviatn.)  first digit project 2020\n",
    "f1d=bf.first_digits(sp.value20c,digs=1,decimals=8) #for the first digit(1-9\n",
    "print('f1d:',f1d)\n",
    "mad1=bf.mad(sp.value20c,test=1,decimals=8) #mad for first digit\n",
    "print('MAD:',mad1)"
   ]
  },
  {
   "cell_type": "code",
   "execution_count": 32,
   "id": "d2ffa36b",
   "metadata": {},
   "outputs": [
    {
     "data": {
      "text/plain": [
       "0.005677677183674554"
      ]
     },
     "execution_count": 32,
     "metadata": {},
     "output_type": "execute_result"
    }
   ],
   "source": [
    "#Global(Intern.Aviatn.)  second digit project 2020\n",
    "mad22=bf.mad(sp.value20c,test=22,decimals=8) #mad for second digit\n",
    "mad22"
   ]
  },
  {
   "cell_type": "code",
   "execution_count": 33,
   "id": "eacf88ef",
   "metadata": {},
   "outputs": [
    {
     "data": {
      "text/plain": [
       "0.0023414790488670745"
      ]
     },
     "execution_count": 33,
     "metadata": {},
     "output_type": "execute_result"
    }
   ],
   "source": [
    "#Global(Intern.Aviatn.)  two digit project 2020\n",
    "mad2=bf.mad(sp.value20c,test=2,decimals=8) #mad for first two  digits\n",
    "mad2"
   ]
  },
  {
   "cell_type": "code",
   "execution_count": 34,
   "id": "bffaea28",
   "metadata": {},
   "outputs": [
    {
     "name": "stdout",
     "output_type": "stream",
     "text": [
      "\n",
      "Initialized sequence with 2920 registries.\n",
      "\n",
      "Test performed on 2920 registries.\n",
      "Discarded 0 records < 1 after preparation.\n"
     ]
    },
    {
     "data": {
      "image/png": "[encoded data removed]",
      "text/plain": [
       "<Figure size 1200x900 with 1 Axes>"
      ]
     },
     "metadata": {},
     "output_type": "display_data"
    },
    {
     "name": "stdout",
     "output_type": "stream",
     "text": [
      "f1d:              Counts     Found  Expected\n",
      "First_1_Dig                            \n",
      "1              1168  0.400000  0.301030\n",
      "2               503  0.172260  0.176091\n",
      "3               474  0.162329  0.124939\n",
      "4               208  0.071233  0.096910\n",
      "5                49  0.016781  0.079181\n",
      "6               157  0.053767  0.066947\n",
      "7               170  0.058219  0.057992\n",
      "8               111  0.038014  0.051153\n",
      "9                80  0.027397  0.045757\n",
      "MAD: 0.03035272576789146\n"
     ]
    }
   ],
   "source": [
    "#Global(Intern.Aviatn.)  first digit project 2021\n",
    "f1d=bf.first_digits(sp.value21c,digs=1,decimals=8) #for the first digit(1-9\n",
    "print('f1d:',f1d)\n",
    "mad1=bf.mad(sp.value21c,test=1,decimals=8) #mad for first digit\n",
    "print('MAD:',mad1)\n",
    "\n"
   ]
  },
  {
   "cell_type": "code",
   "execution_count": 24,
   "id": "58add374",
   "metadata": {},
   "outputs": [
    {
     "name": "stdout",
     "output_type": "stream",
     "text": [
      "MAD: 0.007804580446914694\n"
     ]
    }
   ],
   "source": [
    "#Global(Intern.Aviatn.)  second digit project 2021\n",
    "mad22=bf.mad(sp.value21c,test=22,decimals=8) #mad for second digit\n",
    "print('MAD:',mad22)"
   ]
  },
  {
   "cell_type": "code",
   "execution_count": 35,
   "id": "bbcf4813",
   "metadata": {},
   "outputs": [
    {
     "name": "stdout",
     "output_type": "stream",
     "text": [
      "MAD: 0.004168350584253588\n"
     ]
    }
   ],
   "source": [
    "#Global(Intern.Aviatn.)  two digit project 2021\n",
    "mad2=bf.mad(sp.value21c,test=2,decimals=8) #mad for first two  digits\n",
    "print('MAD:',mad2)"
   ]
  },
  {
   "cell_type": "code",
   "execution_count": 36,
   "id": "1db2e43c",
   "metadata": {},
   "outputs": [
    {
     "name": "stdout",
     "output_type": "stream",
     "text": [
      "\n",
      "Initialized sequence with 2928 registries.\n",
      "\n",
      "Test performed on 2928 registries.\n",
      "Discarded 0 records < 1 after preparation.\n"
     ]
    },
    {
     "data": {
      "image/png": "[encoded data removed]",
      "text/plain": [
       "<Figure size 1200x900 with 1 Axes>"
      ]
     },
     "metadata": {},
     "output_type": "display_data"
    },
    {
     "name": "stdout",
     "output_type": "stream",
     "text": [
      "f1d:              Counts     Found  Expected\n",
      "First_1_Dig                            \n",
      "1              1020  0.348361  0.301030\n",
      "2               569  0.194331  0.176091\n",
      "3               291  0.099385  0.124939\n",
      "4               192  0.065574  0.096910\n",
      "5               169  0.057719  0.079181\n",
      "6               197  0.067281  0.066947\n",
      "7               130  0.044399  0.057992\n",
      "8                88  0.030055  0.051153\n",
      "9               272  0.092896  0.045757\n",
      "MAD: 0.025120737232903464\n"
     ]
    }
   ],
   "source": [
    "#Global(Residential.)  first digit project 2020\n",
    "f1d=bf.first_digits(sp.value20d,digs=1,decimals=8) #for the first digit(1-9\n",
    "print('f1d:',f1d)\n",
    "mad1=bf.mad(sp.value20d,test=1,decimals=8) #mad for first digit\n",
    "print('MAD:',mad1)"
   ]
  },
  {
   "cell_type": "code",
   "execution_count": 37,
   "id": "bb5bb703",
   "metadata": {},
   "outputs": [
    {
     "name": "stdout",
     "output_type": "stream",
     "text": [
      "MAD: 0.02350242222012151\n"
     ]
    }
   ],
   "source": [
    "#Global(Residential.)  second digit project 2020\n",
    "mad22=bf.mad(sp.value20d,test=22,decimals=8) #mad for second digit\n",
    "print('MAD:',mad22)"
   ]
  },
  {
   "cell_type": "code",
   "execution_count": 38,
   "id": "5bcd155a",
   "metadata": {},
   "outputs": [
    {
     "name": "stdout",
     "output_type": "stream",
     "text": [
      "MAD: 0.004937676930190112\n"
     ]
    }
   ],
   "source": [
    "#Global(Residential)  two digit project 2020\n",
    "mad2=bf.mad(sp.value20d,test=2,decimals=8) #mad for first two  digits\n",
    "print('MAD:',mad2)"
   ]
  },
  {
   "cell_type": "code",
   "execution_count": 39,
   "id": "6b94eb9d",
   "metadata": {},
   "outputs": [
    {
     "name": "stdout",
     "output_type": "stream",
     "text": [
      "\n",
      "Initialized sequence with 2920 registries.\n",
      "\n",
      "Test performed on 2920 registries.\n",
      "Discarded 0 records < 1 after preparation.\n"
     ]
    },
    {
     "data": {
      "image/png": "[encoded data removed]",
      "text/plain": [
       "<Figure size 1200x900 with 1 Axes>"
      ]
     },
     "metadata": {},
     "output_type": "display_data"
    },
    {
     "name": "stdout",
     "output_type": "stream",
     "text": [
      "f1d:              Counts     Found  Expected\n",
      "First_1_Dig                            \n",
      "1              1022  0.350000  0.301030\n",
      "2               507  0.173630  0.176091\n",
      "3               354  0.121233  0.124939\n",
      "4               208  0.071233  0.096910\n",
      "5               132  0.045205  0.079181\n",
      "6               194  0.066438  0.066947\n",
      "7               121  0.041438  0.057992\n",
      "8                95  0.032534  0.051153\n",
      "9               287  0.098288  0.045757\n",
      "MAD: 0.022555596668493414\n"
     ]
    }
   ],
   "source": [
    "#Global(Residential.)  first digit project 2021\n",
    "f1d=bf.first_digits(sp.value21d,digs=1,decimals=8) #for the first digit(1-9\n",
    "print('f1d:',f1d)\n",
    "mad1=bf.mad(sp.value21d,test=1,decimals=8) #mad for first digit\n",
    "print('MAD:',mad1)"
   ]
  },
  {
   "cell_type": "code",
   "execution_count": 40,
   "id": "ebe5b7c1",
   "metadata": {},
   "outputs": [
    {
     "name": "stdout",
     "output_type": "stream",
     "text": [
      "MAD: 0.02132121320213009\n"
     ]
    }
   ],
   "source": [
    "#Global(Residential.)  second digit project 2021\n",
    "mad22=bf.mad(sp.value21d,test=22,decimals=8) #mad for second digit\n",
    "print('MAD:',mad22)"
   ]
  },
  {
   "cell_type": "code",
   "execution_count": 41,
   "id": "fbd03784",
   "metadata": {},
   "outputs": [
    {
     "name": "stdout",
     "output_type": "stream",
     "text": [
      "MAD: 0.00481014644397433\n"
     ]
    }
   ],
   "source": [
    "#Global(Residential)  two digit project 2021\n",
    "mad2=bf.mad(sp.value21d,test=2,decimals=8) #mad for first two  digits\n",
    "print('MAD:',mad2)"
   ]
  },
  {
   "cell_type": "code",
   "execution_count": null,
   "id": "942fed5a",
   "metadata": {},
   "outputs": [],
   "source": []
  }
 ],
 "metadata": {
  "kernelspec": {
   "display_name": "Python 3 (ipykernel)",
   "language": "python",
   "name": "python3"
  },
  "language_info": {
   "codemirror_mode": {
    "name": "ipython",
    "version": 3
   },
   "file_extension": ".py",
   "mimetype": "text/x-python",
   "name": "python",
   "nbconvert_exporter": "python",
   "pygments_lexer": "ipython3",
   "version": "3.11.5"
  }
 },
 "nbformat": 4,
 "nbformat_minor": 5
}
